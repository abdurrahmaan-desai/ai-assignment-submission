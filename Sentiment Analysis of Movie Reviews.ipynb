{
 "cells": [
  {
   "cell_type": "code",
   "execution_count": 4,
   "metadata": {
    "collapsed": true
   },
   "outputs": [],
   "source": [
    "# Import packages\n",
    "import re\n",
    "import sys\n",
    "import pandas as pd\n",
    "import numpy as np\n",
    "import nltk\n",
    "from nltk.corpus import stopwords\n",
    "from nltk.stem import PorterStemmer\n",
    "from sklearn.feature_extraction.text import TfidfVectorizer\n",
    "from sklearn.model_selection import train_test_split\n",
    "from sklearn.naive_bayes import MultinomialNB\n",
    "from sklearn.metrics import accuracy_score, classification_report, confusion_matrix\n",
    "from sklearn import tree, svm\n",
    "from sklearn.linear_model import LogisticRegression\n",
    "from sklearn.neural_network import MLPClassifier\n",
    "from sklearn.preprocessing import LabelEncoder\n",
    "import time\n",
    "import graphviz\n",
    "from sklearn.model_selection import KFold\n",
    "from sklearn.model_selection import cross_val_score\n",
    "from numpy import mean, std\n",
    "import seaborn as sns\n",
    "import matplotlib.pyplot as plt"
   ]
  },
  {
   "cell_type": "code",
   "execution_count": 6,
   "outputs": [],
   "source": [
    "def pretty_print(output: str):\n",
    "    \"\"\"\n",
    "    pretty_print formats the print statement a bit nicer\n",
    "    :param output: Output to format\n",
    "    :return:\n",
    "    \"\"\"\n",
    "    print(f'********** {output} **********\\n')"
   ],
   "metadata": {
    "collapsed": false
   }
  },
  {
   "cell_type": "code",
   "execution_count": 7,
   "outputs": [],
   "source": [
    "def investigate(df: pd.DataFrame):\n",
    "    \"\"\"\n",
    "    investigate prints out important detail about the dataframe\n",
    "    Prints out the shape of the dataframe\n",
    "    Prints out the amount of null cells in the dataframe\n",
    "    Prints out a description of the dataframe (Count, unique values)\n",
    "    Prints out information about the dataframe (Number of entries, column names and non-null count)\n",
    "\n",
    "    :param df: Dataframe to investigate\n",
    "    :return:\n",
    "    \"\"\"\n",
    "    pretty_print('Shape')\n",
    "    print(df.shape)\n",
    "    print()\n",
    "\n",
    "    pretty_print('Number of null values')\n",
    "    print(df.isnull().sum())\n",
    "    print()\n",
    "\n",
    "    pretty_print('Description of dataframe')\n",
    "    print(df.describe())\n",
    "    print()\n",
    "\n",
    "    pretty_print('Information about dataframe')\n",
    "    print(df.info())\n",
    "    print()"
   ],
   "metadata": {
    "collapsed": false
   }
  },
  {
   "cell_type": "code",
   "execution_count": 8,
   "outputs": [],
   "source": [
    "def clean_data(reviews: list) -> list:\n",
    "    \"\"\"\n",
    "    clean_data iterates over the reviews, removes html tags, removes punctuation, lowers all capital letters, removes\n",
    "    stop words and stems the remaining words\n",
    "    :param reviews: reviews to clean\n",
    "    :return: returns the cleaned list\n",
    "    \"\"\"\n",
    "    nltk.download('stopwords')\n",
    "    ps = PorterStemmer()\n",
    "    corpus = []\n",
    "\n",
    "    for review in reviews:\n",
    "        review_val = re.sub('<.*?>', \" \", review)\n",
    "        review_val = re.sub(\"[^a-zA-Z]\", \" \", review_val)\n",
    "        review_val = review_val.lower()\n",
    "        review_val = review_val.split()\n",
    "        review_val = [ps.stem(word) for word in review_val if word not in set(stopwords.words('english'))]\n",
    "        review_val = ' '.join(review_val)\n",
    "        corpus.append(review_val)\n",
    "\n",
    "    return corpus"
   ],
   "metadata": {
    "collapsed": false
   }
  },
  {
   "cell_type": "code",
   "execution_count": 9,
   "outputs": [],
   "source": [
    "def remove_html_tags(reviews: list) -> list:\n",
    "    \"\"\"\n",
    "    remove_html_tags removes the html tags from the review and lowers all capital letters\n",
    "    :param reviews: reviews to clean\n",
    "    :return: returns the list of reviews\n",
    "    \"\"\"\n",
    "    corpus = []\n",
    "\n",
    "    for review in reviews:\n",
    "        review_val = re.sub('<.*?>', \" \", review)\n",
    "        review_val = review_val.lower()\n",
    "        corpus.append(review_val)\n",
    "\n",
    "    return corpus"
   ],
   "metadata": {
    "collapsed": false
   }
  },
  {
   "cell_type": "code",
   "execution_count": 10,
   "outputs": [],
   "source": [
    "def vectorise_data(corpus, save_data=False):\n",
    "    \"\"\"\n",
    "    vectorise_data turns the words into a numerical representation\n",
    "    :param corpus: List to vectorise\n",
    "    :param save_data: Option to save the vectorised representation to a text file\n",
    "    :return:\n",
    "    \"\"\"\n",
    "    cv = TfidfVectorizer(max_features=5000)\n",
    "    data = cv.fit_transform(corpus).toarray()\n",
    "\n",
    "    if save_data:\n",
    "        np.savetxt('vectorised_data', data)\n",
    "\n",
    "    return data\n"
   ],
   "metadata": {
    "collapsed": false
   }
  },
  {
   "cell_type": "code",
   "execution_count": 11,
   "outputs": [],
   "source": [
    "def print_train_test_shapes(x_train_param, x_test_param, y_train_param, y_test_param):\n",
    "    \"\"\"\n",
    "    print_train_test_shapes prints the shape of each parameter\n",
    "    :param x_train_param: Review data to train\n",
    "    :param x_test_param: Review data to test\n",
    "    :param y_train_param: Sentiment data to train\n",
    "    :param y_test_param: Sentiment data to test\n",
    "    :return:\n",
    "    \"\"\"\n",
    "    pretty_print('Train and test shapes for x and y')\n",
    "    print(x_train_param.shape)\n",
    "    print(x_test_param.shape)\n",
    "    print(y_train_param.shape)\n",
    "    print(y_test_param.shape)\n"
   ],
   "metadata": {
    "collapsed": false
   }
  },
  {
   "cell_type": "code",
   "execution_count": 12,
   "outputs": [],
   "source": [
    "def output_timings(start, fit, predict):\n",
    "    \"\"\"\n",
    "    output_timings prints out the time taken to fit the model and predict the output\n",
    "    :param start: Time when the function started\n",
    "    :param fit: Time after the fitting of model had completed\n",
    "    :param predict: Time after the prediction had been completed\n",
    "    :return:\n",
    "    \"\"\"\n",
    "    fit_timing = fit - start\n",
    "    prediction_timing = predict - fit\n",
    "\n",
    "    fit_timing_output = f'Time taken to fit the model: {fit_timing} seconds'\n",
    "    prediction_timing_output = f'Time taken to predict the output: {prediction_timing} seconds'\n",
    "\n",
    "    print()\n",
    "    pretty_print(fit_timing_output)\n",
    "    pretty_print(prediction_timing_output)"
   ],
   "metadata": {
    "collapsed": false
   }
  },
  {
   "cell_type": "code",
   "execution_count": 13,
   "outputs": [],
   "source": [
    "def output_predictions(model: str, predictions, y_test_param):\n",
    "    \"\"\"\n",
    "    output_predictions prints out the accuracy score, the confustion matrix and the classification report of the model\n",
    "    that has been created\n",
    "    :param model: Model that has been created\n",
    "    :param predictions: The predictions that were made with the model\n",
    "    :param y_test_param: The sentiment test values\n",
    "    :return:\n",
    "    \"\"\"\n",
    "    print('\\n\\n')\n",
    "    pretty_print(f'{model} Predictions')\n",
    "\n",
    "    print(accuracy_score(y_test_param, predictions))\n",
    "\n",
    "    cm = confusion_matrix(y_test_param, predictions)\n",
    "    print(cm)\n",
    "    sns.set()\n",
    "    ax = sns.heatmap(cm, annot=True, fmt='.0f', xticklabels=['positive', 'negative'],\n",
    "                     yticklabels=['positive', 'negative'])\n",
    "    plt.show(block=True)\n",
    "\n",
    "    print(classification_report(y_test_param, predictions))"
   ],
   "metadata": {
    "collapsed": false
   }
  },
  {
   "cell_type": "code",
   "execution_count": 14,
   "outputs": [],
   "source": [
    "def one_hot_encoder(arr):\n",
    "    \"\"\"\n",
    "    one_hot_encoder converts the text representation of the sentiment to binary integer values\n",
    "    :param arr: Array to be encoded\n",
    "    :return: The encoded array\n",
    "    \"\"\"\n",
    "    label_encoder = LabelEncoder()\n",
    "    integer_encoded = label_encoder.fit_transform(arr)\n",
    "\n",
    "    return integer_encoded\n"
   ],
   "metadata": {
    "collapsed": false
   }
  },
  {
   "cell_type": "code",
   "execution_count": 15,
   "outputs": [],
   "source": [
    "def cross_validation(model, x, y):\n",
    "    \"\"\"\n",
    "    cross_validation runs the accuracy calculation 10 times and computes the average\n",
    "    :param model: Model to compute\n",
    "    :param x: Review test values\n",
    "    :param y: Sentiment test values\n",
    "    :return:\n",
    "    \"\"\"\n",
    "    cv = KFold(n_splits=10, random_state=1, shuffle=True)\n",
    "    scores = cross_val_score(model, x, y, scoring='accuracy', cv=cv, n_jobs=1)\n",
    "    pretty_print('Accuracy: %.3f (%.3f)' % (mean(scores), std(scores)))"
   ],
   "metadata": {
    "collapsed": false
   }
  },
  {
   "cell_type": "code",
   "execution_count": 16,
   "outputs": [],
   "source": [
    "def run_naive_bayes(x_train_param, x_test_param, y_train_param, y_test_param):\n",
    "    \"\"\"\n",
    "    run_naive_bayes creates, fits and predicts the Multinomial Naive Bayes model\n",
    "    Timing of the fitting and predicting process also occurs\n",
    "    Data is sent to the output_predictions and output_timings functions\n",
    "    :param x_train_param: Review data to train\n",
    "    :param x_test_param: Review data to test\n",
    "    :param y_train_param: Sentiment data to train\n",
    "    :param y_test_param: Sentiment data to test\n",
    "    :return:\n",
    "    \"\"\"\n",
    "    pretty_print(\"Creating Naive Bayes model\")\n",
    "    mnb = MultinomialNB()\n",
    "\n",
    "    pretty_print(\"Fitting model\")\n",
    "    start = time.time()\n",
    "    mnb.fit(x_train_param, y_train_param)\n",
    "    fitting_time = time.time()\n",
    "\n",
    "    pretty_print(\"Predicting test data\")\n",
    "    pred = mnb.predict(x_test_param)\n",
    "\n",
    "    prediction_time = time.time()\n",
    "\n",
    "    output_predictions('Naive Bayes', pred, y_test_param)\n",
    "    output_timings(start, fitting_time, prediction_time)\n",
    "\n",
    "    pretty_print(\"Cross validating\")\n",
    "    cross_validation(mnb, x_test_param, y_test_param)"
   ],
   "metadata": {
    "collapsed": false
   }
  },
  {
   "cell_type": "code",
   "execution_count": 17,
   "outputs": [],
   "source": [
    "def run_decision_tree(x_train_param, x_test_param, y_train_param, y_test_param):\n",
    "    \"\"\"\n",
    "    run_decision_tree creates, fits and predicts the Decision Tree model\n",
    "    Timing of the fitting and predicting process also occurs\n",
    "    Data is sent to the output_predictions and output_timings functions\n",
    "    :param x_train_param: Review data to train\n",
    "    :param x_test_param: Review data to test\n",
    "    :param y_train_param: Sentiment data to train\n",
    "    :param y_test_param: Sentiment data to test\n",
    "    :return:\n",
    "    \"\"\"\n",
    "    pretty_print(\"Creating Decision Tree model\")\n",
    "    clf = tree.DecisionTreeClassifier()\n",
    "\n",
    "    pretty_print(\"Fitting model\")\n",
    "    start = time.time()\n",
    "    clf = clf.fit(x_train_param, y_train_param)\n",
    "    fitting_time = time.time()\n",
    "\n",
    "    pretty_print(\"Predicting test data\")\n",
    "    pred = clf.predict(x_test_param)\n",
    "    prediction_time = time.time()\n",
    "\n",
    "    pretty_print(\"Plotting tree\")\n",
    "    tree.plot_tree(clf)\n",
    "    dot_data = tree.export_graphviz(clf, out_file=None, max_depth=3, class_names=['positive', 'negative'])\n",
    "    graph = graphviz.Source(dot_data)\n",
    "    graph.render(\"test\")\n",
    "\n",
    "    output_predictions('Decision Tree', pred, y_test_param)\n",
    "    output_timings(start, fitting_time, prediction_time)\n",
    "\n",
    "    pretty_print(\"Cross validating\")\n",
    "    cross_validation(clf, x_test_param, y_test_param)"
   ],
   "metadata": {
    "collapsed": false
   }
  },
  {
   "cell_type": "code",
   "execution_count": 18,
   "outputs": [],
   "source": [
    "def run_support_vector_machine(x_train_param, x_test_param, y_train_param, y_test_param):\n",
    "    \"\"\"\n",
    "    run_support_vector_machine creates, fits and predicts the Support Vector Machine model\n",
    "    Timing of the fitting and predicting process also occurs\n",
    "    Data is sent to the output_predictions and output_timings functions\n",
    "    :param x_train_param: Review data to train\n",
    "    :param x_test_param: Review data to test\n",
    "    :param y_train_param: Sentiment data to train\n",
    "    :param y_test_param: Sentiment data to test\n",
    "    :return:\n",
    "    \"\"\"\n",
    "    pretty_print(\"Creating Support Vector Machine model\")\n",
    "    clf = svm.SVC()\n",
    "\n",
    "    pretty_print(\"Fitting model\")\n",
    "    start = time.time()\n",
    "    clf.fit(x_train_param, y_train_param)\n",
    "    fitting_time = time.time()\n",
    "\n",
    "    pretty_print(\"Predicting test data\")\n",
    "    pred = clf.predict(x_test_param)\n",
    "    prediction_time = time.time()\n",
    "\n",
    "    output_predictions('Support Vector Machine', pred, y_test_param)\n",
    "    output_timings(start, fitting_time, prediction_time)\n",
    "\n",
    "    pretty_print(\"Cross validating\")\n",
    "    cross_validation(clf, x_test_param, y_test_param)"
   ],
   "metadata": {
    "collapsed": false
   }
  },
  {
   "cell_type": "code",
   "execution_count": 19,
   "outputs": [],
   "source": [
    "def run_logistic_regression(x_train_param, x_test_param, y_train_param, y_test_param):\n",
    "    \"\"\"\n",
    "    run_logistic_regression creates, fits and predicts the Logistic Regression model\n",
    "    Timing of the fitting and predicting process also occurs\n",
    "    Data is sent to the output_predictions and output_timings functions\n",
    "    :param x_train_param: Review data to train\n",
    "    :param x_test_param: Review data to test\n",
    "    :param y_train_param: Sentiment data to train\n",
    "    :param y_test_param: Sentiment data to test\n",
    "    :return:\n",
    "    \"\"\"\n",
    "    pretty_print(\"Creating Logistic Regression model\")\n",
    "    clf = LogisticRegression(random_state=1, max_iter=1500, solver='saga')\n",
    "\n",
    "    pretty_print(\"Fitting model\")\n",
    "    start = time.time()\n",
    "    clf.fit(x_train_param, y_train_param)\n",
    "    fitting_time = time.time()\n",
    "\n",
    "    pretty_print(\"Predicting test data\")\n",
    "    pred = clf.predict(x_test_param)\n",
    "    prediction_time = time.time()\n",
    "\n",
    "    output_predictions('Logistic Regression', pred, y_test_param)\n",
    "    output_timings(start, fitting_time, prediction_time)\n",
    "\n",
    "    pretty_print(\"Cross validating\")\n",
    "    cross_validation(clf, x_test_param, y_test_param)"
   ],
   "metadata": {
    "collapsed": false
   }
  },
  {
   "cell_type": "code",
   "execution_count": 20,
   "outputs": [],
   "source": [
    "def run_mlp(x_train_param, x_test_param, y_train_param, y_test_param):\n",
    "    \"\"\"\n",
    "    run_mlp creates, fits and predicts the Multi-layer Perceptron model\n",
    "    Timing of the fitting and predicting process also occurs\n",
    "    Data is sent to the output_predictions and output_timings functions\n",
    "    :param x_train_param: Review data to train\n",
    "    :param x_test_param: Review data to test\n",
    "    :param y_train_param: Sentiment data to train\n",
    "    :param y_test_param: Sentiment data to test\n",
    "    :return:\n",
    "    \"\"\"\n",
    "    pretty_print(\"Creating Multi-layer Perceptron model\")\n",
    "    clf = MLPClassifier(solver='adam', activation='logistic', alpha=1e-5, hidden_layer_sizes=(16, 16),\n",
    "                        random_state=1, max_iter=200, verbose=False, early_stopping=True)\n",
    "\n",
    "    pretty_print(\"Fitting model\")\n",
    "    start = time.time()\n",
    "    clf.fit(x_train_param, y_train_param)\n",
    "    fitting_time = time.time()\n",
    "\n",
    "    pretty_print(\"Predicting test data\")\n",
    "    pred = clf.predict(x_test_param)\n",
    "    prediction_time = time.time()\n",
    "\n",
    "    output_predictions('Machine learning classification', pred, y_test_param)\n",
    "    output_timings(start, fitting_time, prediction_time)\n",
    "\n",
    "    pretty_print(\"Cross validating\")\n",
    "    cross_validation(clf, x_test_param, y_test_param)"
   ],
   "metadata": {
    "collapsed": false
   }
  },
  {
   "cell_type": "code",
   "execution_count": 21,
   "outputs": [],
   "source": [
    "def generate_data(clean_level: int = 0) -> (list, list, list, list):\n",
    "    \"\"\"\n",
    "    generate_data reads in the data from the csv and passes it to the investigate function\n",
    "    If the clean_level parameter is 0, no cleaning will be done to the data\n",
    "    If the clean_level parameter is 1, only html tags will be removed\n",
    "    If the clean_level parameter is 2, the data will be cleaned using the clean_data function\n",
    "    The reviews are vectorised\n",
    "    The sentiments are one hot encoded\n",
    "    The test and train data are split into a 70/30 split with a random state of 87 to allow for reproducible tests\n",
    "    The shapes of the split data are printed out\n",
    "    :param clean_level: The level of cleaning to be done to the data\n",
    "    :return: The test and train data\n",
    "    \"\"\"\n",
    "    pretty_print(\"Reading csv\")\n",
    "    df = pd.read_csv('IMDB Dataset.csv')\n",
    "    investigate(df)\n",
    "\n",
    "    reviews, sentiments = df['review'], df['sentiment']\n",
    "\n",
    "    if clean_level == 0:\n",
    "        pretty_print(\"Data will not be cleaned\")\n",
    "    elif clean_level == 1:\n",
    "        pretty_print(\"Removing html tags\")\n",
    "        corpus = remove_html_tags(reviews)\n",
    "    elif clean_level == 2:\n",
    "        pretty_print(\"Cleaning data\")\n",
    "        corpus = clean_data(reviews)\n",
    "    else:\n",
    "        sys.exit(\"Invalid clean level option\")\n",
    "\n",
    "    if clean_level == 0:\n",
    "        pretty_print(\"Vectorising review data\")\n",
    "        vectorised_data = vectorise_data(reviews)\n",
    "    else:\n",
    "        pretty_print(\"Vectorising review data\")\n",
    "        vectorised_data = vectorise_data(corpus)\n",
    "\n",
    "    pretty_print(\"Encoding sentiment data\")\n",
    "    sentiments = one_hot_encoder(sentiments)\n",
    "\n",
    "    pretty_print(\"Splitting data\")\n",
    "    x_train, x_test, y_train, y_test = train_test_split(vectorised_data, sentiments, train_size=0.7, random_state=87)\n",
    "\n",
    "    print_train_test_shapes(x_train, x_test, y_train, y_test)\n",
    "\n",
    "    return x_train, x_test, y_train, y_test"
   ],
   "metadata": {
    "collapsed": false
   }
  },
  {
   "cell_type": "code",
   "execution_count": 23,
   "outputs": [
    {
     "name": "stdout",
     "output_type": "stream",
     "text": [
      "********** Reading csv **********\n",
      "\n",
      "********** Shape **********\n",
      "\n",
      "(50000, 2)\n",
      "\n",
      "********** Number of null values **********\n",
      "\n",
      "review       0\n",
      "sentiment    0\n",
      "dtype: int64\n",
      "\n",
      "********** Description of dataframe **********\n",
      "\n",
      "                                                   review sentiment\n",
      "count                                               50000     50000\n",
      "unique                                              49582         2\n",
      "top     Loved today's show!!! It was a variety and not...  positive\n",
      "freq                                                    5     25000\n",
      "\n",
      "********** Information about dataframe **********\n",
      "\n",
      "<class 'pandas.core.frame.DataFrame'>\n",
      "RangeIndex: 50000 entries, 0 to 49999\n",
      "Data columns (total 2 columns):\n",
      " #   Column     Non-Null Count  Dtype \n",
      "---  ------     --------------  ----- \n",
      " 0   review     50000 non-null  object\n",
      " 1   sentiment  50000 non-null  object\n",
      "dtypes: object(2)\n",
      "memory usage: 781.4+ KB\n",
      "None\n",
      "\n",
      "********** Data will not be cleaned **********\n",
      "\n",
      "********** Vectorising review data **********\n",
      "\n",
      "********** Encoding sentiment data **********\n",
      "\n",
      "********** Splitting data **********\n",
      "\n",
      "********** Train and test shapes for x and y **********\n",
      "\n",
      "(35000, 5000)\n",
      "(15000, 5000)\n",
      "(35000,)\n",
      "(15000,)\n"
     ]
    }
   ],
   "source": [
    "x_train, x_test, y_train, y_test = generate_data(0)"
   ],
   "metadata": {
    "collapsed": false
   }
  },
  {
   "cell_type": "code",
   "execution_count": 24,
   "outputs": [
    {
     "name": "stdout",
     "output_type": "stream",
     "text": [
      "********** Creating Naive Bayes model **********\n",
      "\n",
      "********** Fitting model **********\n",
      "\n",
      "********** Predicting test data **********\n",
      "\n",
      "\n",
      "\n",
      "\n",
      "********** Naive Bayes Predictions **********\n",
      "\n",
      "0.8542\n",
      "[[6390 1088]\n",
      " [1099 6423]]\n"
     ]
    },
    {
     "data": {
      "text/plain": "<Figure size 640x480 with 2 Axes>",
      "image/png": "[encoded data removed]"
     },
     "metadata": {},
     "output_type": "display_data"
    },
    {
     "name": "stdout",
     "output_type": "stream",
     "text": [
      "              precision    recall  f1-score   support\n",
      "\n",
      "           0       0.85      0.85      0.85      7478\n",
      "           1       0.86      0.85      0.85      7522\n",
      "\n",
      "    accuracy                           0.85     15000\n",
      "   macro avg       0.85      0.85      0.85     15000\n",
      "weighted avg       0.85      0.85      0.85     15000\n",
      "\n",
      "\n",
      "********** Time taken to fit the model: 0.1669013500213623 seconds **********\n",
      "\n",
      "********** Time taken to predict the output: 0.046031951904296875 seconds **********\n",
      "\n",
      "********** Cross validating **********\n",
      "\n",
      "Accuracy: 0.850 (0.008)\n"
     ]
    }
   ],
   "source": [
    "run_naive_bayes(x_train, x_test, y_train, y_test)"
   ],
   "metadata": {
    "collapsed": false
   }
  },
  {
   "cell_type": "code",
   "execution_count": 25,
   "outputs": [
    {
     "name": "stdout",
     "output_type": "stream",
     "text": [
      "********** Creating Decision Tree model **********\n",
      "\n",
      "********** Fitting model **********\n",
      "\n",
      "********** Predicting test data **********\n",
      "\n",
      "********** Plotting tree **********\n",
      "\n",
      "\n",
      "\n",
      "\n",
      "********** Decision Tree Predictions **********\n",
      "\n",
      "0.7110666666666666\n",
      "[[5376 2102]\n",
      " [2232 5290]]\n"
     ]
    },
    {
     "data": {
      "text/plain": "<Figure size 640x480 with 2 Axes>",
      "image/png": "[encoded data removed]"
     },
     "metadata": {},
     "output_type": "display_data"
    },
    {
     "name": "stdout",
     "output_type": "stream",
     "text": [
      "              precision    recall  f1-score   support\n",
      "\n",
      "           0       0.71      0.72      0.71      7478\n",
      "           1       0.72      0.70      0.71      7522\n",
      "\n",
      "    accuracy                           0.71     15000\n",
      "   macro avg       0.71      0.71      0.71     15000\n",
      "weighted avg       0.71      0.71      0.71     15000\n",
      "\n",
      "\n",
      "********** Time taken to fit the model: 53.98405575752258 seconds **********\n",
      "\n",
      "********** Time taken to predict the output: 0.09721899032592773 seconds **********\n",
      "\n",
      "********** Cross validating **********\n",
      "\n",
      "Accuracy: 0.696 (0.011)\n"
     ]
    }
   ],
   "source": [
    "run_decision_tree(x_train, x_test, y_train, y_test)"
   ],
   "metadata": {
    "collapsed": false
   }
  },
  {
   "cell_type": "code",
   "execution_count": null,
   "outputs": [],
   "source": [
    "# Note: This takes over 3 hours to run!\n",
    "run_support_vector_machine(x_train, x_test, y_train, y_test)"
   ],
   "metadata": {
    "collapsed": false
   }
  },
  {
   "cell_type": "code",
   "execution_count": 26,
   "outputs": [
    {
     "name": "stdout",
     "output_type": "stream",
     "text": [
      "********** Creating Logistic Regression model **********\n",
      "\n",
      "********** Fitting model **********\n",
      "\n",
      "********** Predicting test data **********\n",
      "\n",
      "\n",
      "\n",
      "\n",
      "********** Logistic Regression Predictions **********\n",
      "\n",
      "0.8911333333333333\n",
      "[[6589  889]\n",
      " [ 744 6778]]\n"
     ]
    },
    {
     "data": {
      "text/plain": "<Figure size 640x480 with 2 Axes>",
      "image/png": "[encoded data removed]"
     },
     "metadata": {},
     "output_type": "display_data"
    },
    {
     "name": "stdout",
     "output_type": "stream",
     "text": [
      "              precision    recall  f1-score   support\n",
      "\n",
      "           0       0.90      0.88      0.89      7478\n",
      "           1       0.88      0.90      0.89      7522\n",
      "\n",
      "    accuracy                           0.89     15000\n",
      "   macro avg       0.89      0.89      0.89     15000\n",
      "weighted avg       0.89      0.89      0.89     15000\n",
      "\n",
      "\n",
      "********** Time taken to fit the model: 16.494606256484985 seconds **********\n",
      "\n",
      "********** Time taken to predict the output: 0.039809465408325195 seconds **********\n",
      "\n",
      "********** Cross validating **********\n",
      "\n",
      "Accuracy: 0.878 (0.009)\n"
     ]
    }
   ],
   "source": [
    "run_logistic_regression(x_train, x_test, y_train, y_test)"
   ],
   "metadata": {
    "collapsed": false
   }
  },
  {
   "cell_type": "code",
   "execution_count": 27,
   "outputs": [
    {
     "name": "stdout",
     "output_type": "stream",
     "text": [
      "********** Creating Multi-layer Perceptron model **********\n",
      "\n",
      "********** Fitting model **********\n",
      "\n",
      "********** Predicting test data **********\n",
      "\n",
      "\n",
      "\n",
      "\n",
      "********** Machine learning classification Predictions **********\n",
      "\n",
      "0.8958\n",
      "[[6749  729]\n",
      " [ 834 6688]]\n"
     ]
    },
    {
     "data": {
      "text/plain": "<Figure size 640x480 with 2 Axes>",
      "image/png": "[encoded data removed]"
     },
     "metadata": {},
     "output_type": "display_data"
    },
    {
     "name": "stdout",
     "output_type": "stream",
     "text": [
      "              precision    recall  f1-score   support\n",
      "\n",
      "           0       0.89      0.90      0.90      7478\n",
      "           1       0.90      0.89      0.90      7522\n",
      "\n",
      "    accuracy                           0.90     15000\n",
      "   macro avg       0.90      0.90      0.90     15000\n",
      "weighted avg       0.90      0.90      0.90     15000\n",
      "\n",
      "\n",
      "********** Time taken to fit the model: 14.827693939208984 seconds **********\n",
      "\n",
      "********** Time taken to predict the output: 0.05328035354614258 seconds **********\n",
      "\n",
      "********** Cross validating **********\n",
      "\n",
      "Accuracy: 0.885 (0.010)\n"
     ]
    }
   ],
   "source": [
    "run_mlp(x_train, x_test, y_train, y_test)"
   ],
   "metadata": {
    "collapsed": false
   }
  }
 ],
 "metadata": {
  "kernelspec": {
   "display_name": "Python 3",
   "language": "python",
   "name": "python3"
  },
  "language_info": {
   "codemirror_mode": {
    "name": "ipython",
    "version": 2
   },
   "file_extension": ".py",
   "mimetype": "text/x-python",
   "name": "python",
   "nbconvert_exporter": "python",
   "pygments_lexer": "ipython2",
   "version": "2.7.6"
  }
 },
 "nbformat": 4,
 "nbformat_minor": 0
}
